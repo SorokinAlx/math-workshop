{
 "cells": [
  {
   "cell_type": "markdown",
   "metadata": {},
   "source": [
    "# Homework"
   ]
  },
  {
   "cell_type": "code",
   "execution_count": 1,
   "metadata": {},
   "outputs": [],
   "source": [
    "class Test:\n",
    "    @staticmethod\n",
    "    def assert_equals(a, b, *args, **kwargs):\n",
    "        assert a == b\n",
    "        print('Passed')"
   ]
  },
  {
   "cell_type": "markdown",
   "metadata": {},
   "source": [
    "Problem https://edabit.com/challenge/2zKetgAJp4WRFXiDT (2 points)"
   ]
  },
  {
   "cell_type": "code",
   "execution_count": 2,
   "metadata": {},
   "outputs": [],
   "source": [
    "def number_length(num):\n",
    "    a = 1\n",
    "    while num // 10 != 0 :\n",
    "        a+=1\n",
    "        num = num // 10\n",
    "    return a"
   ]
  },
  {
   "cell_type": "code",
   "execution_count": 3,
   "metadata": {},
   "outputs": [
    {
     "name": "stdout",
     "output_type": "stream",
     "text": [
      "Passed\n",
      "Passed\n",
      "Passed\n",
      "Passed\n",
      "Passed\n",
      "Passed\n",
      "Passed\n"
     ]
    }
   ],
   "source": [
    "Test.assert_equals(number_length(10), 2)\n",
    "Test.assert_equals(number_length(5000), 4)\n",
    "Test.assert_equals(number_length(0), 1)\n",
    "Test.assert_equals(number_length(4039182), 7)\n",
    "Test.assert_equals(number_length(9999999999999999), 16)\n",
    "Test.assert_equals(number_length(1), 1)\n",
    "Test.assert_equals(number_length(777777777777777777777777777777), 30)"
   ]
  },
  {
   "cell_type": "markdown",
   "metadata": {},
   "source": [
    "Problem https://edabit.com/challenge/G9QRtAGXb9Cu368Pw (3 points)"
   ]
  },
  {
   "cell_type": "code",
   "execution_count": 4,
   "metadata": {},
   "outputs": [],
   "source": [
    "def combinations(*items):\n",
    "    a = 1\n",
    "    for item  in list(filter(lambda x: x != 0, items)):\n",
    "        a*=item\n",
    "    return a"
   ]
  },
  {
   "cell_type": "code",
   "execution_count": 5,
   "metadata": {},
   "outputs": [
    {
     "name": "stdout",
     "output_type": "stream",
     "text": [
      "Passed\n",
      "Passed\n",
      "Passed\n",
      "Passed\n",
      "Passed\n",
      "Passed\n",
      "Passed\n",
      "Passed\n",
      "Passed\n",
      "Passed\n"
     ]
    }
   ],
   "source": [
    "Test.assert_equals(combinations(2), 2)\n",
    "Test.assert_equals(combinations(2, 3), 6)\n",
    "Test.assert_equals(combinations(3, 5), 15)\n",
    "Test.assert_equals(combinations(5, 6, 7), 210)\n",
    "Test.assert_equals(combinations(5, 5, 5, 5), 625)\n",
    "Test.assert_equals(combinations(3, 6, 9), 162)\n",
    "Test.assert_equals(combinations(2, 3, 4, 5, 6, 7, 8, 9, 10), 3628800)\n",
    "Test.assert_equals(combinations(4, 5, 6), 120)\n",
    "Test.assert_equals(combinations(5, 6, 7, 8), 1680)\n",
    "Test.assert_equals(combinations(6, 7, 0), 42)"
   ]
  },
  {
   "cell_type": "markdown",
   "metadata": {},
   "source": [
    "https://edabit.com/challenge/mDuDhhMWrdHJSGdtm (4 points)"
   ]
  },
  {
   "cell_type": "code",
   "execution_count": 6,
   "metadata": {},
   "outputs": [],
   "source": [
    "import math\n",
    "def is_exactly_three(n):\n",
    "    a=0\n",
    "    if n<4 :\n",
    "        return False\n",
    "    else:\n",
    "        for i in list(filter(lambda x: n % x == 0, range(2,math.ceil(n **(0.5))))):\n",
    "            if i*i<n:\n",
    "                a+=1\n",
    "                break\n",
    "        if a==0:\n",
    "            if n ** (0.5) == math.ceil(n ** (0.5)):\n",
    "                return True\n",
    "        return False"
   ]
  },
  {
   "cell_type": "code",
   "execution_count": 7,
   "metadata": {},
   "outputs": [
    {
     "name": "stdout",
     "output_type": "stream",
     "text": [
      "Passed\n",
      "Passed\n",
      "Passed\n",
      "Passed\n",
      "Passed\n",
      "Passed\n",
      "Passed\n",
      "Passed\n",
      "Passed\n",
      "Passed\n",
      "Passed\n",
      "Passed\n",
      "Passed\n",
      "Passed\n",
      "Passed\n",
      "Passed\n",
      "Passed\n",
      "Passed\n",
      "Passed\n",
      "Passed\n",
      "Passed\n",
      "Passed\n",
      "Passed\n",
      "Passed\n",
      "Passed\n"
     ]
    }
   ],
   "source": [
    "Test.assert_equals(is_exactly_three(4), True)\n",
    "Test.assert_equals(is_exactly_three(12), False)\n",
    "Test.assert_equals(is_exactly_three(25), True)\n",
    "Test.assert_equals(is_exactly_three(121), True)\n",
    "Test.assert_equals(is_exactly_three(48), False)\n",
    "Test.assert_equals(is_exactly_three(1), False)\n",
    "Test.assert_equals(is_exactly_three(81), False)\n",
    "Test.assert_equals(is_exactly_three(1521), False)\n",
    "Test.assert_equals(is_exactly_three(225), False)\n",
    "Test.assert_equals(is_exactly_three(27550356289), True)\n",
    "Test.assert_equals(is_exactly_three(25235235235), False)\n",
    "Test.assert_equals(is_exactly_three(10), False)\n",
    "Test.assert_equals(is_exactly_three(64), False)\n",
    "Test.assert_equals(is_exactly_three(9), True)\n",
    "Test.assert_equals(is_exactly_three(144), False)\n",
    "Test.assert_equals(is_exactly_three(3), False)\n",
    "Test.assert_equals(is_exactly_three(2), False)\n",
    "Test.assert_equals(is_exactly_three(42351351), False)\n",
    "Test.assert_equals(is_exactly_three(999966000289), True)\n",
    "Test.assert_equals(is_exactly_three(20152357681), True)\n",
    "Test.assert_equals(is_exactly_three(531625249), True)\n",
    "Test.assert_equals(is_exactly_three(264306808866), False)\n",
    "Test.assert_equals(is_exactly_three(975179493674), False)\n",
    "Test.assert_equals(is_exactly_three(49), True)\n",
    "Test.assert_equals(is_exactly_three(165983), False)"
   ]
  },
  {
   "cell_type": "markdown",
   "metadata": {},
   "source": [
    "https://edabit.com/challenge/Yfksxs7kyJf6B3yvK (3 points)"
   ]
  },
  {
   "cell_type": "code",
   "execution_count": 8,
   "metadata": {},
   "outputs": [],
   "source": [
    "def min_miss_pos(lst):\n",
    "    lst.sort()\n",
    "    a=-1\n",
    "    b=-1\n",
    "    for i in range(len(lst)):\n",
    "        if lst[i]>0:\n",
    "            a=i\n",
    "            break\n",
    "    if a==-1:\n",
    "        return 1\n",
    "    elif lst[a]>1:\n",
    "        return 1\n",
    "    else:\n",
    "        for j in range(a,len(lst)-1):\n",
    "            if lst[j+1]-lst[j]>1:\n",
    "                b=lst[j]+1\n",
    "                break\n",
    "    if b==-1:\n",
    "        return lst[-1]+1\n",
    "    else:\n",
    "        return b"
   ]
  },
  {
   "cell_type": "code",
   "execution_count": 9,
   "metadata": {},
   "outputs": [
    {
     "name": "stdout",
     "output_type": "stream",
     "text": [
      "Passed\n",
      "Passed\n",
      "Passed\n",
      "Passed\n",
      "Passed\n",
      "Passed\n"
     ]
    }
   ],
   "source": [
    "Test.assert_equals(min_miss_pos([-2, 6, 4, 5, 7, -1, 7, 1, 3, 6, 6, -2, 9, 10, 2, 2]), 8)\n",
    "Test.assert_equals(min_miss_pos([5, 9, -2, 0, 1, 3, 9, 3, 8, 9]), 2)\n",
    "Test.assert_equals(min_miss_pos([0, 4, 4, -1, 9, 4, 5, 2, 10, 7, 6, 3, 10, 9]), 1)\n",
    "Test.assert_equals(min_miss_pos([4, 2, 9, 6, 1, 3, -2, 10, 3, 0, 9, 7, 3]), 5)\n",
    "Test.assert_equals(min_miss_pos([0, -4, -4, -1, -9, -4, -5, -2, -10, -7, -6, -3, -10, -9]), 1)\n",
    "Test.assert_equals(min_miss_pos([7, 6, 5, 4, 3, 2, 1]), 8)"
   ]
  },
  {
   "cell_type": "markdown",
   "metadata": {},
   "source": [
    "https://edabit.com/challenge/HXdh6znk86SHqhkz9 (1 point)"
   ]
  },
  {
   "cell_type": "code",
   "execution_count": 10,
   "metadata": {},
   "outputs": [],
   "source": [
    "def fib(n):\n",
    "    if n<2:\n",
    "          return n\n",
    "    return fib(n-1)+fib(n-2)"
   ]
  },
  {
   "cell_type": "code",
   "execution_count": 11,
   "metadata": {},
   "outputs": [
    {
     "name": "stdout",
     "output_type": "stream",
     "text": [
      "Passed\n",
      "Passed\n",
      "Passed\n",
      "Passed\n",
      "Passed\n",
      "Passed\n"
     ]
    }
   ],
   "source": [
    "Test.assert_equals(fib(2), 1)\n",
    "Test.assert_equals(fib(5), 5)\n",
    "Test.assert_equals(fib(8), 21)\n",
    "Test.assert_equals(fib(12), 144)\n",
    "Test.assert_equals(fib(0), 0)\n",
    "Test.assert_equals(fib(1), 1)"
   ]
  },
  {
   "cell_type": "markdown",
   "metadata": {},
   "source": [
    "https://edabit.com/challenge/3Ekam9jvbNKHDtx4K (2 points)"
   ]
  },
  {
   "cell_type": "code",
   "execution_count": 12,
   "metadata": {},
   "outputs": [],
   "source": [
    "import math\n",
    "def line_length(dot1, dot2):\n",
    "    a=((dot1[1]-dot2[1])**2+(dot1[0]-dot2[0])**2) ** 0.5\n",
    "    return round(a, 2)"
   ]
  },
  {
   "cell_type": "code",
   "execution_count": 13,
   "metadata": {},
   "outputs": [
    {
     "name": "stdout",
     "output_type": "stream",
     "text": [
      "Passed\n",
      "Passed\n",
      "Passed\n",
      "Passed\n"
     ]
    }
   ],
   "source": [
    "Test.assert_equals(line_length([15, 7], [22, 11]), 8.06)\n",
    "Test.assert_equals(line_length([0, 0], [0, 0]), 0)\n",
    "Test.assert_equals(line_length([0, 0], [1, 1]), 1.41)\n",
    "Test.assert_equals(line_length([30, 10], [13, -5]), 22.67)"
   ]
  }
 ],
 "metadata": {
  "kernelspec": {
   "display_name": "Python 3",
   "language": "python",
   "name": "python3"
  },
  "language_info": {
   "codemirror_mode": {
    "name": "ipython",
    "version": 3
   },
   "file_extension": ".py",
   "mimetype": "text/x-python",
   "name": "python",
   "nbconvert_exporter": "python",
   "pygments_lexer": "ipython3",
   "version": "3.7.0"
  }
 },
 "nbformat": 4,
 "nbformat_minor": 2
}
