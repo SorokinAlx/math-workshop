{
 "cells": [
  {
   "cell_type": "code",
   "execution_count": 19,
   "id": "3612c721",
   "metadata": {},
   "outputs": [],
   "source": [
    "import numpy as np"
   ]
  },
  {
   "cell_type": "code",
   "execution_count": 20,
   "id": "38514f3a",
   "metadata": {},
   "outputs": [],
   "source": [
    "init_prob = np.array([.2,.8]) #pi\n",
    "tr_prob = np.array([[.5, .5], [.4, .6]]) #A\n",
    "em_prob = np.array([[.5, .4, .1], [.2, .4, .4]]) #B\n",
    "obs=np.array([1, 3, 3, 2, 3, 3, 3, 2, 1, 2, 1, 1, 3, 1, 3, 3, 3]) #O"
   ]
  },
  {
   "cell_type": "code",
   "execution_count": 21,
   "id": "4e7ccf85",
   "metadata": {},
   "outputs": [],
   "source": [
    "def likelihood_forward(init_prob, tr_prob, em_prob, obs):\n",
    "    obs_len = len(obs)\n",
    "    states = init_prob.size\n",
    "    trellis = np.zeros((states, obs_len)) #alpha\n",
    "\n",
    "    trellis[:,0] = init_prob*em_prob[: ,obs[0]-1]\n",
    "    \n",
    "    for t in range(1, obs_len):\n",
    "        for s in range(states):\n",
    "            for k in range(states):\n",
    "                trellis[s,t] += trellis[k,t-1]*tr_prob[k,s]*em_prob[s,obs[t]-1]\n",
    "    \n",
    "    return np.sum(trellis[:,obs_len-1])"
   ]
  },
  {
   "cell_type": "code",
   "execution_count": 22,
   "id": "46aa2be9",
   "metadata": {},
   "outputs": [
    {
     "data": {
      "text/plain": [
       "1.5661699363936459e-09"
      ]
     },
     "execution_count": 22,
     "metadata": {},
     "output_type": "execute_result"
    }
   ],
   "source": [
    "likelihood_forward(init_prob, tr_prob, em_prob, obs)"
   ]
  }
 ],
 "metadata": {
  "kernelspec": {
   "display_name": "Python 3 (ipykernel)",
   "language": "python",
   "name": "python3"
  },
  "language_info": {
   "codemirror_mode": {
    "name": "ipython",
    "version": 3
   },
   "file_extension": ".py",
   "mimetype": "text/x-python",
   "name": "python",
   "nbconvert_exporter": "python",
   "pygments_lexer": "ipython3",
   "version": "3.9.7"
  }
 },
 "nbformat": 4,
 "nbformat_minor": 5
}
