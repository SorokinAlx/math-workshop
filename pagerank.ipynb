{
 "cells": [
  {
   "cell_type": "code",
   "execution_count": 171,
   "id": "5a91ad23",
   "metadata": {},
   "outputs": [],
   "source": [
    "def PageRank(dist_mat, iter=500):\n",
    "    res=np.ones(dist_mat.shape[0])/dist_mat.shape[0]\n",
    "    for i in range(iter):\n",
    "        res = dist_mat.dot(res)\n",
    "        res = res/np.sum(np.abs(res))\n",
    "    return res"
   ]
  },
  {
   "cell_type": "code",
   "execution_count": 172,
   "id": "dcbdb2cc",
   "metadata": {},
   "outputs": [],
   "source": [
    "import pandas as pd\n",
    "import numpy as np\n",
    "from xml.etree  import ElementTree"
   ]
  },
  {
   "cell_type": "code",
   "execution_count": 173,
   "id": "0ec37717",
   "metadata": {},
   "outputs": [],
   "source": [
    "tr=ElementTree.parse('padgett.xml')"
   ]
  },
  {
   "cell_type": "code",
   "execution_count": 174,
   "id": "ca1bbfa3",
   "metadata": {},
   "outputs": [],
   "source": [
    "d_names={}"
   ]
  },
  {
   "cell_type": "code",
   "execution_count": 175,
   "id": "4d43fa2d",
   "metadata": {},
   "outputs": [],
   "source": [
    "i=0\n",
    "for names in tr.iter('node'):   \n",
    "    d_names[names.attrib['id']]=i\n",
    "    i+=1"
   ]
  },
  {
   "cell_type": "code",
   "execution_count": 176,
   "id": "c75ae4ac",
   "metadata": {},
   "outputs": [],
   "source": [
    "size=len(d_names)\n",
    "dist_mat = np.empty((size, size))"
   ]
  },
  {
   "cell_type": "code",
   "execution_count": 177,
   "id": "d738ba60",
   "metadata": {},
   "outputs": [],
   "source": [
    "for t in tr.iter('link'):\n",
    "    dist_mat[d_names[t.attrib['target']],d_names[t.attrib['source']]]=float(t.attrib[\"value\"])+0.001"
   ]
  },
  {
   "cell_type": "code",
   "execution_count": 178,
   "id": "bcf1584b",
   "metadata": {},
   "outputs": [],
   "source": [
    "res=PageRank(dist_mat)"
   ]
  },
  {
   "cell_type": "code",
   "execution_count": 179,
   "id": "d43f9b36",
   "metadata": {},
   "outputs": [],
   "source": [
    "df=pd.DataFrame()"
   ]
  },
  {
   "cell_type": "code",
   "execution_count": 180,
   "id": "905fd322",
   "metadata": {},
   "outputs": [],
   "source": [
    "df['names']=list(d_names.keys())\n",
    "df['PageRank']=res"
   ]
  },
  {
   "cell_type": "code",
   "execution_count": 181,
   "id": "e84bdbba",
   "metadata": {},
   "outputs": [
    {
     "data": {
      "text/html": [
       "<div>\n",
       "<style scoped>\n",
       "    .dataframe tbody tr th:only-of-type {\n",
       "        vertical-align: middle;\n",
       "    }\n",
       "\n",
       "    .dataframe tbody tr th {\n",
       "        vertical-align: top;\n",
       "    }\n",
       "\n",
       "    .dataframe thead th {\n",
       "        text-align: right;\n",
       "    }\n",
       "</style>\n",
       "<table border=\"1\" class=\"dataframe\">\n",
       "  <thead>\n",
       "    <tr style=\"text-align: right;\">\n",
       "      <th></th>\n",
       "      <th>names</th>\n",
       "      <th>PageRank</th>\n",
       "    </tr>\n",
       "  </thead>\n",
       "  <tbody>\n",
       "    <tr>\n",
       "      <th>0</th>\n",
       "      <td>ACCIAIUOL</td>\n",
       "      <td>0.037833</td>\n",
       "    </tr>\n",
       "    <tr>\n",
       "      <th>1</th>\n",
       "      <td>ALBIZZI</td>\n",
       "      <td>0.069696</td>\n",
       "    </tr>\n",
       "    <tr>\n",
       "      <th>2</th>\n",
       "      <td>BARBADORI</td>\n",
       "      <td>0.060426</td>\n",
       "    </tr>\n",
       "    <tr>\n",
       "      <th>3</th>\n",
       "      <td>BISCHERI</td>\n",
       "      <td>0.080600</td>\n",
       "    </tr>\n",
       "    <tr>\n",
       "      <th>4</th>\n",
       "      <td>CASTELLAN</td>\n",
       "      <td>0.073843</td>\n",
       "    </tr>\n",
       "    <tr>\n",
       "      <th>5</th>\n",
       "      <td>GINORI</td>\n",
       "      <td>0.021630</td>\n",
       "    </tr>\n",
       "    <tr>\n",
       "      <th>6</th>\n",
       "      <td>GUADAGNI</td>\n",
       "      <td>0.082511</td>\n",
       "    </tr>\n",
       "    <tr>\n",
       "      <th>7</th>\n",
       "      <td>LAMBERTES</td>\n",
       "      <td>0.025551</td>\n",
       "    </tr>\n",
       "    <tr>\n",
       "      <th>8</th>\n",
       "      <td>MEDICI</td>\n",
       "      <td>0.122652</td>\n",
       "    </tr>\n",
       "    <tr>\n",
       "      <th>9</th>\n",
       "      <td>PAZZI</td>\n",
       "      <td>0.013108</td>\n",
       "    </tr>\n",
       "    <tr>\n",
       "      <th>10</th>\n",
       "      <td>PERUZZI</td>\n",
       "      <td>0.078569</td>\n",
       "    </tr>\n",
       "    <tr>\n",
       "      <th>11</th>\n",
       "      <td>PUCCI</td>\n",
       "      <td>0.000306</td>\n",
       "    </tr>\n",
       "    <tr>\n",
       "      <th>12</th>\n",
       "      <td>RIDOLFI</td>\n",
       "      <td>0.097246</td>\n",
       "    </tr>\n",
       "    <tr>\n",
       "      <th>13</th>\n",
       "      <td>SALVIATI</td>\n",
       "      <td>0.041843</td>\n",
       "    </tr>\n",
       "    <tr>\n",
       "      <th>14</th>\n",
       "      <td>STROZZI</td>\n",
       "      <td>0.101352</td>\n",
       "    </tr>\n",
       "    <tr>\n",
       "      <th>15</th>\n",
       "      <td>TORNABUON</td>\n",
       "      <td>0.092831</td>\n",
       "    </tr>\n",
       "  </tbody>\n",
       "</table>\n",
       "</div>"
      ],
      "text/plain": [
       "        names  PageRank\n",
       "0   ACCIAIUOL  0.037833\n",
       "1     ALBIZZI  0.069696\n",
       "2   BARBADORI  0.060426\n",
       "3    BISCHERI  0.080600\n",
       "4   CASTELLAN  0.073843\n",
       "5      GINORI  0.021630\n",
       "6    GUADAGNI  0.082511\n",
       "7   LAMBERTES  0.025551\n",
       "8      MEDICI  0.122652\n",
       "9       PAZZI  0.013108\n",
       "10    PERUZZI  0.078569\n",
       "11      PUCCI  0.000306\n",
       "12    RIDOLFI  0.097246\n",
       "13   SALVIATI  0.041843\n",
       "14    STROZZI  0.101352\n",
       "15  TORNABUON  0.092831"
      ]
     },
     "execution_count": 181,
     "metadata": {},
     "output_type": "execute_result"
    }
   ],
   "source": [
    "df"
   ]
  }
 ],
 "metadata": {
  "kernelspec": {
   "display_name": "Python 3 (ipykernel)",
   "language": "python",
   "name": "python3"
  },
  "language_info": {
   "codemirror_mode": {
    "name": "ipython",
    "version": 3
   },
   "file_extension": ".py",
   "mimetype": "text/x-python",
   "name": "python",
   "nbconvert_exporter": "python",
   "pygments_lexer": "ipython3",
   "version": "3.9.7"
  }
 },
 "nbformat": 4,
 "nbformat_minor": 5
}
